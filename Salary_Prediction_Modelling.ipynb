{
 "cells": [
  {
   "cell_type": "markdown",
   "metadata": {},
   "source": [
    "# Salary Predictions Modelling 🔍"
   ]
  },
  {
   "cell_type": "markdown",
   "metadata": {},
   "source": [
    "- __Author__ : \"Shreya Shrestha\"\n",
    "- [__Email__](shreyashrestha995@gmail.com)\n",
    "- [__LinkedIn__](https://www.linkedin.com/in/iamshreyashrestha/)"
   ]
  },
  {
   "cell_type": "markdown",
   "metadata": {},
   "source": [
    "### Importing libraries"
   ]
  },
  {
   "cell_type": "code",
   "execution_count": 2,
   "metadata": {},
   "outputs": [],
   "source": [
    "import pandas as pd\n",
    "import numpy as np\n",
    "import matplotlib.pyplot as plt\n",
    "import seaborn as sns\n",
    "%matplotlib inline\n",
    "from sklearn.utils import shuffle\n",
    "from sklearn.preprocessing import MinMaxScaler\n",
    "from sklearn.preprocessing import LabelEncoder\n",
    "from sklearn.model_selection import train_test_split\n",
    "from sklearn.linear_model import LinearRegression\n",
    "from sklearn.ensemble import RandomForestRegressor, GradientBoostingRegressor\n",
    "from sklearn.model_selection import StratifiedKFold\n",
    "from sklearn.model_selection import cross_val_score\n",
    "from sklearn.metrics import mean_squared_error \n",
    "from pprint import pprint\n",
    "import warnings\n",
    "warnings.filterwarnings(\"ignore\")\n"
   ]
  },
  {
   "cell_type": "markdown",
   "metadata": {},
   "source": [
    "### Pre-Processing"
   ]
  },
  {
   "cell_type": "code",
   "execution_count": 177,
   "metadata": {},
   "outputs": [],
   "source": [
    "# 1. Load the data \n",
    "#training Dataframes\n",
    "train_features = pd.read_csv('train_features.csv')\n",
    "train_salaries = pd.read_csv('train_salaries.csv')\n",
    "#testing Dataframe\n",
    "test_df = pd.read_csv('test_features.csv')\n",
    "\n",
    "# 2. Mergeing the train_feature to train_salaries\n",
    "train_df = train_features.merge(train_salaries, on='jobId', how = 'left') \n",
    "\n",
    "# 3. Removing the outliers\n",
    "train_df = train_df[train_df.salary > 8.5]\n",
    "\n",
    "# 4. Removing the unique identifier\n",
    "train_df = train_df.drop(columns = ['jobId'])\n",
    "test_df = test_df.drop(columns = ['jobId'])\n",
    "\n",
    "# 5. To define the variables\n",
    "numerical = ['yearsExperience', 'milesFromMetropolis']\n",
    "categorical = ['companyId', 'jobType', 'degree', 'major', 'industry']\n",
    "target = ['salary']"
   ]
  },
  {
   "cell_type": "markdown",
   "metadata": {},
   "source": [
    "#### To shuffle the data "
   ]
  },
  {
   "cell_type": "markdown",
   "metadata": {},
   "source": [
    "` By shuffling the data we ensure that each data point creates an \"independent\" change on the model, without being biased by the same points before them. `"
   ]
  },
  {
   "cell_type": "code",
   "execution_count": 4,
   "metadata": {},
   "outputs": [],
   "source": [
    "train_df = shuffle(train_df).reset_index()"
   ]
  },
  {
   "cell_type": "markdown",
   "metadata": {},
   "source": [
    "### 6. Feature Engineering"
   ]
  },
  {
   "cell_type": "markdown",
   "metadata": {},
   "source": [
    "#### Encode the categorical variables using one-hot encode feature"
   ]
  },
  {
   "cell_type": "code",
   "execution_count": 5,
   "metadata": {},
   "outputs": [],
   "source": [
    "cat_df = pd.get_dummies(train_df[categorical],dtype=int)\n",
    "num_df = train_df[numerical].apply(pd.to_numeric)\n",
    "train_df = pd.concat([cat_df, num_df], axis=1)"
   ]
  },
  {
   "cell_type": "code",
   "execution_count": 178,
   "metadata": {},
   "outputs": [],
   "source": [
    "cat_df = pd.get_dummies(test_df[categorical],dtype=int)\n",
    "num_df = test_df[numerical].apply(pd.to_numeric)\n",
    "test_df = pd.concat([cat_df, num_df], axis=1)"
   ]
  },
  {
   "cell_type": "code",
   "execution_count": 6,
   "metadata": {},
   "outputs": [
    {
     "data": {
      "text/html": [
       "<div>\n",
       "<style scoped>\n",
       "    .dataframe tbody tr th:only-of-type {\n",
       "        vertical-align: middle;\n",
       "    }\n",
       "\n",
       "    .dataframe tbody tr th {\n",
       "        vertical-align: top;\n",
       "    }\n",
       "\n",
       "    .dataframe thead th {\n",
       "        text-align: right;\n",
       "    }\n",
       "</style>\n",
       "<table border=\"1\" class=\"dataframe\">\n",
       "  <thead>\n",
       "    <tr style=\"text-align: right;\">\n",
       "      <th></th>\n",
       "      <th>companyId_COMP0</th>\n",
       "      <th>companyId_COMP1</th>\n",
       "      <th>companyId_COMP10</th>\n",
       "      <th>companyId_COMP11</th>\n",
       "      <th>companyId_COMP12</th>\n",
       "      <th>companyId_COMP13</th>\n",
       "      <th>companyId_COMP14</th>\n",
       "      <th>companyId_COMP15</th>\n",
       "      <th>companyId_COMP16</th>\n",
       "      <th>companyId_COMP17</th>\n",
       "      <th>...</th>\n",
       "      <th>industry_AUTO</th>\n",
       "      <th>industry_EDUCATION</th>\n",
       "      <th>industry_FINANCE</th>\n",
       "      <th>industry_HEALTH</th>\n",
       "      <th>industry_OIL</th>\n",
       "      <th>industry_SERVICE</th>\n",
       "      <th>industry_WEB</th>\n",
       "      <th>yearsExperience</th>\n",
       "      <th>milesFromMetropolis</th>\n",
       "      <th>salary</th>\n",
       "    </tr>\n",
       "  </thead>\n",
       "  <tbody>\n",
       "    <tr>\n",
       "      <th>0</th>\n",
       "      <td>0</td>\n",
       "      <td>0</td>\n",
       "      <td>0</td>\n",
       "      <td>0</td>\n",
       "      <td>0</td>\n",
       "      <td>0</td>\n",
       "      <td>0</td>\n",
       "      <td>0</td>\n",
       "      <td>0</td>\n",
       "      <td>0</td>\n",
       "      <td>...</td>\n",
       "      <td>0</td>\n",
       "      <td>0</td>\n",
       "      <td>0</td>\n",
       "      <td>0</td>\n",
       "      <td>0</td>\n",
       "      <td>1</td>\n",
       "      <td>0</td>\n",
       "      <td>20</td>\n",
       "      <td>2</td>\n",
       "      <td>162</td>\n",
       "    </tr>\n",
       "    <tr>\n",
       "      <th>1</th>\n",
       "      <td>0</td>\n",
       "      <td>0</td>\n",
       "      <td>0</td>\n",
       "      <td>0</td>\n",
       "      <td>0</td>\n",
       "      <td>0</td>\n",
       "      <td>0</td>\n",
       "      <td>0</td>\n",
       "      <td>0</td>\n",
       "      <td>0</td>\n",
       "      <td>...</td>\n",
       "      <td>0</td>\n",
       "      <td>0</td>\n",
       "      <td>0</td>\n",
       "      <td>0</td>\n",
       "      <td>1</td>\n",
       "      <td>0</td>\n",
       "      <td>0</td>\n",
       "      <td>8</td>\n",
       "      <td>98</td>\n",
       "      <td>132</td>\n",
       "    </tr>\n",
       "    <tr>\n",
       "      <th>2</th>\n",
       "      <td>0</td>\n",
       "      <td>0</td>\n",
       "      <td>0</td>\n",
       "      <td>0</td>\n",
       "      <td>0</td>\n",
       "      <td>0</td>\n",
       "      <td>0</td>\n",
       "      <td>0</td>\n",
       "      <td>0</td>\n",
       "      <td>0</td>\n",
       "      <td>...</td>\n",
       "      <td>0</td>\n",
       "      <td>0</td>\n",
       "      <td>0</td>\n",
       "      <td>0</td>\n",
       "      <td>1</td>\n",
       "      <td>0</td>\n",
       "      <td>0</td>\n",
       "      <td>19</td>\n",
       "      <td>13</td>\n",
       "      <td>147</td>\n",
       "    </tr>\n",
       "    <tr>\n",
       "      <th>3</th>\n",
       "      <td>0</td>\n",
       "      <td>0</td>\n",
       "      <td>0</td>\n",
       "      <td>0</td>\n",
       "      <td>0</td>\n",
       "      <td>0</td>\n",
       "      <td>1</td>\n",
       "      <td>0</td>\n",
       "      <td>0</td>\n",
       "      <td>0</td>\n",
       "      <td>...</td>\n",
       "      <td>0</td>\n",
       "      <td>1</td>\n",
       "      <td>0</td>\n",
       "      <td>0</td>\n",
       "      <td>0</td>\n",
       "      <td>0</td>\n",
       "      <td>0</td>\n",
       "      <td>23</td>\n",
       "      <td>9</td>\n",
       "      <td>121</td>\n",
       "    </tr>\n",
       "    <tr>\n",
       "      <th>4</th>\n",
       "      <td>0</td>\n",
       "      <td>0</td>\n",
       "      <td>0</td>\n",
       "      <td>0</td>\n",
       "      <td>0</td>\n",
       "      <td>0</td>\n",
       "      <td>0</td>\n",
       "      <td>0</td>\n",
       "      <td>0</td>\n",
       "      <td>0</td>\n",
       "      <td>...</td>\n",
       "      <td>0</td>\n",
       "      <td>0</td>\n",
       "      <td>0</td>\n",
       "      <td>0</td>\n",
       "      <td>0</td>\n",
       "      <td>0</td>\n",
       "      <td>1</td>\n",
       "      <td>2</td>\n",
       "      <td>65</td>\n",
       "      <td>57</td>\n",
       "    </tr>\n",
       "  </tbody>\n",
       "</table>\n",
       "<p>5 rows × 95 columns</p>\n",
       "</div>"
      ],
      "text/plain": [
       "   companyId_COMP0  companyId_COMP1  companyId_COMP10  companyId_COMP11  \\\n",
       "0                0                0                 0                 0   \n",
       "1                0                0                 0                 0   \n",
       "2                0                0                 0                 0   \n",
       "3                0                0                 0                 0   \n",
       "4                0                0                 0                 0   \n",
       "\n",
       "   companyId_COMP12  companyId_COMP13  companyId_COMP14  companyId_COMP15  \\\n",
       "0                 0                 0                 0                 0   \n",
       "1                 0                 0                 0                 0   \n",
       "2                 0                 0                 0                 0   \n",
       "3                 0                 0                 1                 0   \n",
       "4                 0                 0                 0                 0   \n",
       "\n",
       "   companyId_COMP16  companyId_COMP17  ...  industry_AUTO  industry_EDUCATION  \\\n",
       "0                 0                 0  ...              0                   0   \n",
       "1                 0                 0  ...              0                   0   \n",
       "2                 0                 0  ...              0                   0   \n",
       "3                 0                 0  ...              0                   1   \n",
       "4                 0                 0  ...              0                   0   \n",
       "\n",
       "   industry_FINANCE  industry_HEALTH  industry_OIL  industry_SERVICE  \\\n",
       "0                 0                0             0                 1   \n",
       "1                 0                0             1                 0   \n",
       "2                 0                0             1                 0   \n",
       "3                 0                0             0                 0   \n",
       "4                 0                0             0                 0   \n",
       "\n",
       "   industry_WEB  yearsExperience  milesFromMetropolis  salary  \n",
       "0             0               20                    2     162  \n",
       "1             0                8                   98     132  \n",
       "2             0               19                   13     147  \n",
       "3             0               23                    9     121  \n",
       "4             1                2                   65      57  \n",
       "\n",
       "[5 rows x 95 columns]"
      ]
     },
     "execution_count": 6,
     "metadata": {},
     "output_type": "execute_result"
    }
   ],
   "source": [
    "train_df.head()"
   ]
  },
  {
   "cell_type": "markdown",
   "metadata": {},
   "source": [
    "#### Normalizing the numerical features"
   ]
  },
  {
   "cell_type": "code",
   "execution_count": 7,
   "metadata": {},
   "outputs": [],
   "source": [
    "scaler = MinMaxScaler()\n",
    "\n",
    "train_df[['yearsExperience','milesFromMetropolis']] = scaler.fit_transform(train_df[['yearsExperience','milesFromMetropolis']])\n",
    "test_df[['yearsExperience','milesFromMetropolis']] = scaler.fit_transform(test_df[['yearsExperience','milesFromMetropolis']])"
   ]
  },
  {
   "cell_type": "markdown",
   "metadata": {},
   "source": [
    "#### Splitting the dataset"
   ]
  },
  {
   "cell_type": "code",
   "execution_count": 8,
   "metadata": {},
   "outputs": [],
   "source": [
    "X = train_df.drop('salary', axis=1)\n",
    "y = train_df['salary']"
   ]
  },
  {
   "cell_type": "code",
   "execution_count": 9,
   "metadata": {},
   "outputs": [
    {
     "name": "stdout",
     "output_type": "stream",
     "text": [
      "The number of samples in training are: (699996, 94)\n",
      "The number of samples in testing are: (299999, 94)\n",
      "The number of samples in training are: (699996,)\n",
      "The number of samples in testing are: (299999,)\n"
     ]
    }
   ],
   "source": [
    "X_train, X_test, y_train, y_test = train_test_split(X, y, train_size=0.7,random_state=0)\n",
    "print(\"The number of samples in training are:\" , X_train.shape)\n",
    "print(\"The number of samples in testing are:\" , X_test.shape)\n",
    "print(\"The number of samples in training are:\" , y_train.shape)\n",
    "print(\"The number of samples in testing are:\" , y_test.shape)"
   ]
  },
  {
   "cell_type": "markdown",
   "metadata": {},
   "source": [
    "### 7. Create Models"
   ]
  },
  {
   "cell_type": "markdown",
   "metadata": {},
   "source": [
    "- **Linear Regression**\n",
    "- **Random Forest Regressor**\n",
    "- **Gradient-boost**"
   ]
  },
  {
   "cell_type": "code",
   "execution_count": 10,
   "metadata": {},
   "outputs": [],
   "source": [
    "def get_report(model, X_train, y_train):\n",
    "    cv = StratifiedKFold(n_splits=10, random_state=43, shuffle=True)\n",
    "\n",
    "    # To find the cross valiadation scores using negative mean squared error\n",
    "    cvResult = cross_val_score(model, X_train, y_train, cv = cv, scoring = 'neg_mean_squared_error')\n",
    "    mean_mse = -1 * np.mean(cvResult)\n",
    "    std_mse = np.std(cvResult)\n",
    "    \n",
    "    print('Average CV MSE: ', round(mean_mse, 2))\n",
    "    print('Standard deviation during CV MSE: ', round(std_mse, 2)) \n",
    "    \n",
    "    # Returning the accuracy \n",
    "    return mean_mse\n",
    "    return std_mse"
   ]
  },
  {
   "cell_type": "code",
   "execution_count": 38,
   "metadata": {},
   "outputs": [],
   "source": [
    "def create_plot(model_names, HT_mse, title, color = 'lightcoral'):\n",
    "    plt.figure(figsize  = (7, 6))\n",
    "    \n",
    "    # creating a bar plot \n",
    "    if color != None:\n",
    "        plt.bar(model_names, HT_mse, color = color)\n",
    "    else:\n",
    "        plt.bar(model_names, HT_mse)\n",
    "    \n",
    "    # adding the labels to the bars\n",
    "    addlabels(model_names, HT_mse)\n",
    "    \n",
    "    # setting the title\n",
    "    plt.title(\n",
    "        title,\n",
    "        fontsize = 15, # title size\n",
    "        fontweight = 'bold', # making the title bold\n",
    "         y = 1.02 # moving the title up alittle\n",
    "    )\n",
    "    \n",
    "    # removing the xlabel and y_label \n",
    "    plt.xlabel(' ')\n",
    "    plt.ylabel(' ')\n",
    "    \n",
    "    # removing the yticks \n",
    "    plt.yticks([])\n",
    "    \n",
    "    # rotating the titles of the bars since they are too big to fit otherwise\n",
    "    plt.xticks(\n",
    "        rotation = 45, \n",
    "        horizontalalignment = 'right',\n",
    "        fontsize = 10\n",
    "    )\n",
    "    \n",
    "    plt.show()"
   ]
  },
  {
   "cell_type": "code",
   "execution_count": 43,
   "metadata": {},
   "outputs": [],
   "source": [
    "# function to add value labels\n",
    "def addlabels(x,y):\n",
    "    for i in range(len(x)):\n",
    "        # adding the text\n",
    "        plt.text(i, y[i]//2, y[i], ha = 'center', Bbox = dict(facecolor = 'white', alpha = .5))"
   ]
  },
  {
   "cell_type": "code",
   "execution_count": 11,
   "metadata": {},
   "outputs": [],
   "source": [
    "# The models we want to test\n",
    "models = [\n",
    "    LinearRegression(),\n",
    "    GradientBoostingRegressor(),\n",
    "    RandomForestRegressor()\n",
    "]"
   ]
  },
  {
   "cell_type": "code",
   "execution_count": 12,
   "metadata": {},
   "outputs": [
    {
     "name": "stdout",
     "output_type": "stream",
     "text": [
      "LINEARREGRESSION()\n",
      "Average CV MSE:  384.56\n",
      "Standard deviation during CV MSE:  1.49\n",
      "\n",
      "\n",
      "GRADIENTBOOSTINGREGRESSOR()\n",
      "Average CV MSE:  375.81\n",
      "Standard deviation during CV MSE:  1.51\n",
      "\n",
      "\n",
      "RANDOMFORESTREGRESSOR()\n",
      "Average CV MSE:  401.63\n",
      "Standard deviation during CV MSE:  1.73\n",
      "\n",
      "\n"
     ]
    }
   ],
   "source": [
    "# this list will contain all of the models accuracies\n",
    "MSE = []\n",
    "\n",
    "for model in models:\n",
    "    # printing out the model name\n",
    "    print(str(model).upper())\n",
    "    MSE.append(get_report(model, X_train, y_train))\n",
    "    \n",
    "    # creating space \n",
    "    \n",
    "    print()\n",
    "    print()"
   ]
  },
  {
   "cell_type": "code",
   "execution_count": 13,
   "metadata": {},
   "outputs": [
    {
     "name": "stdout",
     "output_type": "stream",
     "text": [
      "LINEARREGRESSION()\n",
      "{'copy_X': True,\n",
      " 'fit_intercept': True,\n",
      " 'n_jobs': None,\n",
      " 'normalize': False,\n",
      " 'positive': False}\n",
      "\n",
      "GRADIENTBOOSTINGREGRESSOR()\n",
      "{'alpha': 0.9,\n",
      " 'ccp_alpha': 0.0,\n",
      " 'criterion': 'friedman_mse',\n",
      " 'init': None,\n",
      " 'learning_rate': 0.1,\n",
      " 'loss': 'ls',\n",
      " 'max_depth': 3,\n",
      " 'max_features': None,\n",
      " 'max_leaf_nodes': None,\n",
      " 'min_impurity_decrease': 0.0,\n",
      " 'min_impurity_split': None,\n",
      " 'min_samples_leaf': 1,\n",
      " 'min_samples_split': 2,\n",
      " 'min_weight_fraction_leaf': 0.0,\n",
      " 'n_estimators': 100,\n",
      " 'n_iter_no_change': None,\n",
      " 'random_state': None,\n",
      " 'subsample': 1.0,\n",
      " 'tol': 0.0001,\n",
      " 'validation_fraction': 0.1,\n",
      " 'verbose': 0,\n",
      " 'warm_start': False}\n",
      "\n",
      "RANDOMFORESTREGRESSOR()\n",
      "{'bootstrap': True,\n",
      " 'ccp_alpha': 0.0,\n",
      " 'criterion': 'mse',\n",
      " 'max_depth': None,\n",
      " 'max_features': 'auto',\n",
      " 'max_leaf_nodes': None,\n",
      " 'max_samples': None,\n",
      " 'min_impurity_decrease': 0.0,\n",
      " 'min_impurity_split': None,\n",
      " 'min_samples_leaf': 1,\n",
      " 'min_samples_split': 2,\n",
      " 'min_weight_fraction_leaf': 0.0,\n",
      " 'n_estimators': 100,\n",
      " 'n_jobs': None,\n",
      " 'oob_score': False,\n",
      " 'random_state': None,\n",
      " 'verbose': 0,\n",
      " 'warm_start': False}\n",
      "\n"
     ]
    }
   ],
   "source": [
    "for model in models:\n",
    "    # printing out the model name\n",
    "    print(str(model).upper())   \n",
    "    pprint(model.get_params())\n",
    "    print()\n"
   ]
  },
  {
   "cell_type": "markdown",
   "metadata": {},
   "source": [
    "### Hyperparameter tuning "
   ]
  },
  {
   "cell_type": "code",
   "execution_count": 16,
   "metadata": {},
   "outputs": [],
   "source": [
    "# hyperparameter tuning done manually for each model\n",
    "# The models we want to test\n",
    "hyperTuned_models = [\n",
    "    LinearRegression(),\n",
    "    GradientBoostingRegressor(n_estimators = 150, max_depth = 7,random_state = 0, loss = 'ls', verbose = 0),\n",
    "    RandomForestRegressor(n_estimators = 150, n_jobs = 2, max_depth = 25, min_samples_split = 60, \\\n",
    "                           max_features = 30, verbose = 0)\n",
    "]"
   ]
  },
  {
   "cell_type": "code",
   "execution_count": 17,
   "metadata": {},
   "outputs": [
    {
     "name": "stdout",
     "output_type": "stream",
     "text": [
      "LINEARREGRESSION()\n",
      "Average CV MSE:  384.56\n",
      "Standard deviation during CV MSE:  1.49\n",
      "\n",
      "\n",
      "GRADIENTBOOSTINGREGRESSOR(MAX_DEPTH=7, N_ESTIMATORS=150, RANDOM_STATE=0)\n",
      "Average CV MSE:  357.5\n",
      "Standard deviation during CV MSE:  1.17\n",
      "\n",
      "\n",
      "RANDOMFORESTREGRESSOR(MAX_DEPTH=25, MAX_FEATURES=30, MIN_SAMPLES_SPLIT=60,\n",
      "                      N_ESTIMATORS=150, N_JOBS=2)\n",
      "Average CV MSE:  366.76\n",
      "Standard deviation during CV MSE:  1.26\n",
      "\n",
      "\n"
     ]
    }
   ],
   "source": [
    "# this list will contain all of the models accuracies\n",
    "HT_mse = []\n",
    "\n",
    "for model in hyperTuned_models:\n",
    "    # printing out the model name\n",
    "    print(str(model).upper())\n",
    "    HT_mse.append(get_report(model, X_train, y_train))\n",
    "\n",
    "    # creating space \n",
    "    \n",
    "    print()\n",
    "    print()"
   ]
  },
  {
   "cell_type": "markdown",
   "metadata": {},
   "source": [
    "#### Construting a datafrom out of the CV results"
   ]
  },
  {
   "cell_type": "code",
   "execution_count": 84,
   "metadata": {},
   "outputs": [],
   "source": [
    "CVresults_df = pd.DataFrame([HT_mse]).T\n",
    "CVresults_df.columns = ['Mean_MSE']\n",
    "CVresults_df.index = ['Linear Regression','Gradient Boosting','Random Forest']"
   ]
  },
  {
   "cell_type": "code",
   "execution_count": 85,
   "metadata": {},
   "outputs": [],
   "source": [
    "# To round the Mean_MSE to 2 decimal places\n",
    "CVresults_df.Mean_MSE = round(CVresults_df['Mean_MSE'],2)"
   ]
  },
  {
   "cell_type": "code",
   "execution_count": 86,
   "metadata": {},
   "outputs": [
    {
     "data": {
      "text/html": [
       "<div>\n",
       "<style scoped>\n",
       "    .dataframe tbody tr th:only-of-type {\n",
       "        vertical-align: middle;\n",
       "    }\n",
       "\n",
       "    .dataframe tbody tr th {\n",
       "        vertical-align: top;\n",
       "    }\n",
       "\n",
       "    .dataframe thead th {\n",
       "        text-align: right;\n",
       "    }\n",
       "</style>\n",
       "<table border=\"1\" class=\"dataframe\">\n",
       "  <thead>\n",
       "    <tr style=\"text-align: right;\">\n",
       "      <th></th>\n",
       "      <th>Mean_MSE</th>\n",
       "    </tr>\n",
       "  </thead>\n",
       "  <tbody>\n",
       "    <tr>\n",
       "      <th>Linear Regression</th>\n",
       "      <td>384.56</td>\n",
       "    </tr>\n",
       "    <tr>\n",
       "      <th>Gradient Boosting</th>\n",
       "      <td>357.50</td>\n",
       "    </tr>\n",
       "    <tr>\n",
       "      <th>Random Forest</th>\n",
       "      <td>366.76</td>\n",
       "    </tr>\n",
       "  </tbody>\n",
       "</table>\n",
       "</div>"
      ],
      "text/plain": [
       "                   Mean_MSE\n",
       "Linear Regression    384.56\n",
       "Gradient Boosting    357.50\n",
       "Random Forest        366.76"
      ]
     },
     "execution_count": 86,
     "metadata": {},
     "output_type": "execute_result"
    }
   ],
   "source": [
    "CVresults_df"
   ]
  },
  {
   "cell_type": "code",
   "execution_count": 89,
   "metadata": {},
   "outputs": [],
   "source": [
    "sorted_mean_mse = CVresults_df.sort_values('Mean_MSE')\n"
   ]
  },
  {
   "cell_type": "code",
   "execution_count": 100,
   "metadata": {},
   "outputs": [],
   "source": [
    "modelname = sorted_mean_mse.index.tolist()\n"
   ]
  },
  {
   "cell_type": "code",
   "execution_count": 101,
   "metadata": {},
   "outputs": [
    {
     "data": {
      "text/plain": [
       "['Gradient Boosting', 'Random Forest', 'Linear Regression']"
      ]
     },
     "execution_count": 101,
     "metadata": {},
     "output_type": "execute_result"
    }
   ],
   "source": [
    "modelname\n"
   ]
  },
  {
   "cell_type": "code",
   "execution_count": 102,
   "metadata": {},
   "outputs": [
    {
     "data": {
      "image/png": "[encoded data removed]",
      "text/plain": [
       "<Figure size 504x432 with 1 Axes>"
      ]
     },
     "metadata": {
      "needs_background": "light"
     },
     "output_type": "display_data"
    }
   ],
   "source": [
    "# title of the plot\n",
    "title = 'COMPARING THE MSE OF THE MODELS'\n",
    "\n",
    "# creating the plot\n",
    "create_plot(sorted_mean_mse.index.tolist(),sorted_mean_mse['Mean_MSE'], title)\n"
   ]
  },
  {
   "cell_type": "markdown",
   "metadata": {},
   "source": [
    "#### Now that the performance of the models has been evaluated, we will train the entire dataset using the best performing model - GradientBoastingRegressor with the lowest MSE."
   ]
  },
  {
   "cell_type": "code",
   "execution_count": 131,
   "metadata": {},
   "outputs": [
    {
     "name": "stdout",
     "output_type": "stream",
     "text": [
      "GradientBoostingRegressor(max_depth=7, n_estimators=150, random_state=0)\n"
     ]
    },
    {
     "data": {
      "text/plain": [
       "GradientBoostingRegressor(max_depth=7, n_estimators=150, random_state=0)"
      ]
     },
     "execution_count": 131,
     "metadata": {},
     "output_type": "execute_result"
    }
   ],
   "source": [
    "model = GradientBoostingRegressor(n_estimators = 150, max_depth = 7,random_state = 0, loss = 'ls', verbose = 0)\n",
    "print(model)\n",
    "\n",
    "# To train the model:\n",
    "model.fit(X_train, y_train)"
   ]
  },
  {
   "cell_type": "markdown",
   "metadata": {},
   "source": [
    "#### Saving the model"
   ]
  },
  {
   "cell_type": "code",
   "execution_count": 137,
   "metadata": {},
   "outputs": [],
   "source": [
    "from pickle import dump\n",
    "from pickle import load\n",
    "\n",
    "filename = 'final_model.sav'\n",
    "dump(model, open(filename, 'wb'))\n"
   ]
  },
  {
   "cell_type": "markdown",
   "metadata": {},
   "source": [
    "#### To make predictions on the train data"
   ]
  },
  {
   "cell_type": "code",
   "execution_count": 138,
   "metadata": {},
   "outputs": [],
   "source": [
    "prediction = model.predict(X_train)\n"
   ]
  },
  {
   "cell_type": "markdown",
   "metadata": {},
   "source": [
    "#### To visualize the Gradient Boosting Model evaluation on test dataset"
   ]
  },
  {
   "cell_type": "code",
   "execution_count": 199,
   "metadata": {},
   "outputs": [
    {
     "data": {
      "image/png": "[encoded data removed]",
      "text/plain": [
       "<Figure size 720x576 with 1 Axes>"
      ]
     },
     "metadata": {
      "needs_background": "light"
     },
     "output_type": "display_data"
    }
   ],
   "source": [
    "fig = plt.figure(figsize = (10,8))\n",
    "ax1 = sns.distplot(train_df['salary'], color='b', label=\"Actuals\", kde_kws={\"shade\": True}, hist=False)\n",
    "ax1 = sns.distplot(prediction, color='r', label=\"Fitted\", kde_kws={\"shade\": True}, hist=False)\n",
    "plt.legend()\n",
    "plt.title(\"Actual vs Fitted Salary Prediction Values using Gradient Boosting Model\")\n",
    "plt.xlabel(\"Salary\")\n",
    "plt.ylabel(\"Density\")\n",
    "plt.savefig('GradientBoot_Training_AVsF.png')\n",
    "plt.show()"
   ]
  },
  {
   "cell_type": "markdown",
   "metadata": {},
   "source": [
    "#### Feature Importance"
   ]
  },
  {
   "cell_type": "code",
   "execution_count": 159,
   "metadata": {},
   "outputs": [],
   "source": [
    "importance = model.feature_importances_\n"
   ]
  },
  {
   "cell_type": "code",
   "execution_count": 160,
   "metadata": {},
   "outputs": [],
   "source": [
    "feature_importance = pd.DataFrame({'Feature':X_train.columns, \"Importance\" : importance})\n"
   ]
  },
  {
   "cell_type": "code",
   "execution_count": 161,
   "metadata": {},
   "outputs": [],
   "source": [
    "#Sorting values by ascending values\n",
    "feature_importance.sort_values(by='Importance', ascending=False, inplace=True)\n",
    "feature_importance.set_index('Feature', inplace=True, drop=True)\n"
   ]
  },
  {
   "cell_type": "code",
   "execution_count": 205,
   "metadata": {},
   "outputs": [
    {
     "data": {
      "image/png": "[encoded data removed]",
      "text/plain": [
       "<Figure size 864x648 with 1 Axes>"
      ]
     },
     "metadata": {
      "needs_background": "light"
     },
     "output_type": "display_data"
    }
   ],
   "source": [
    "fig = feature_importance.head(10).plot.bar(figsize=(12,9),color = 'slategrey')\n",
    "fig.set_title('TOP 10 FEATURE IMPORTANCE PLOT')\n",
    "plt.savefig('Feature_importance.png')\n",
    "plt.show()\n"
   ]
  },
  {
   "cell_type": "code",
   "execution_count": 164,
   "metadata": {},
   "outputs": [
    {
     "data": {
      "text/html": [
       "<div>\n",
       "<style scoped>\n",
       "    .dataframe tbody tr th:only-of-type {\n",
       "        vertical-align: middle;\n",
       "    }\n",
       "\n",
       "    .dataframe tbody tr th {\n",
       "        vertical-align: top;\n",
       "    }\n",
       "\n",
       "    .dataframe thead th {\n",
       "        text-align: right;\n",
       "    }\n",
       "</style>\n",
       "<table border=\"1\" class=\"dataframe\">\n",
       "  <thead>\n",
       "    <tr style=\"text-align: right;\">\n",
       "      <th></th>\n",
       "      <th>Importance</th>\n",
       "    </tr>\n",
       "    <tr>\n",
       "      <th>Feature</th>\n",
       "      <th></th>\n",
       "    </tr>\n",
       "  </thead>\n",
       "  <tbody>\n",
       "    <tr>\n",
       "      <th>jobType_JANITOR</th>\n",
       "      <td>0.234752</td>\n",
       "    </tr>\n",
       "    <tr>\n",
       "      <th>yearsExperience</th>\n",
       "      <td>0.187388</td>\n",
       "    </tr>\n",
       "    <tr>\n",
       "      <th>milesFromMetropolis</th>\n",
       "      <td>0.129661</td>\n",
       "    </tr>\n",
       "    <tr>\n",
       "      <th>jobType_JUNIOR</th>\n",
       "      <td>0.081191</td>\n",
       "    </tr>\n",
       "    <tr>\n",
       "      <th>major_NONE</th>\n",
       "      <td>0.070763</td>\n",
       "    </tr>\n",
       "    <tr>\n",
       "      <th>jobType_SENIOR</th>\n",
       "      <td>0.048110</td>\n",
       "    </tr>\n",
       "    <tr>\n",
       "      <th>jobType_CEO</th>\n",
       "      <td>0.038499</td>\n",
       "    </tr>\n",
       "    <tr>\n",
       "      <th>industry_EDUCATION</th>\n",
       "      <td>0.029835</td>\n",
       "    </tr>\n",
       "    <tr>\n",
       "      <th>industry_OIL</th>\n",
       "      <td>0.026080</td>\n",
       "    </tr>\n",
       "    <tr>\n",
       "      <th>industry_FINANCE</th>\n",
       "      <td>0.024587</td>\n",
       "    </tr>\n",
       "  </tbody>\n",
       "</table>\n",
       "</div>"
      ],
      "text/plain": [
       "                     Importance\n",
       "Feature                        \n",
       "jobType_JANITOR        0.234752\n",
       "yearsExperience        0.187388\n",
       "milesFromMetropolis    0.129661\n",
       "jobType_JUNIOR         0.081191\n",
       "major_NONE             0.070763\n",
       "jobType_SENIOR         0.048110\n",
       "jobType_CEO            0.038499\n",
       "industry_EDUCATION     0.029835\n",
       "industry_OIL           0.026080\n",
       "industry_FINANCE       0.024587"
      ]
     },
     "execution_count": 164,
     "metadata": {},
     "output_type": "execute_result"
    }
   ],
   "source": [
    "feature_importance[0:10]\n"
   ]
  },
  {
   "cell_type": "markdown",
   "metadata": {},
   "source": [
    "### 7. Model Deployment"
   ]
  },
  {
   "cell_type": "code",
   "execution_count": 192,
   "metadata": {},
   "outputs": [],
   "source": [
    "#Make predictions on new data i.e the test dataset, and save results\n",
    "test_predictions = model.predict(test_df)\n",
    "np.savetxt('predictions.csv', test_predictions, delimiter=',')\n"
   ]
  },
  {
   "cell_type": "code",
   "execution_count": 193,
   "metadata": {},
   "outputs": [],
   "source": [
    "test_predictions = pd.Series(test_predictions)\n"
   ]
  },
  {
   "cell_type": "code",
   "execution_count": 194,
   "metadata": {},
   "outputs": [
    {
     "data": {
      "text/plain": [
       "0      97.561363\n",
       "1      68.323079\n",
       "2     140.297405\n",
       "3     111.268501\n",
       "4     119.139709\n",
       "5     152.927481\n",
       "6      97.110202\n",
       "7     128.990071\n",
       "8     118.287002\n",
       "9      96.850909\n",
       "10     58.865912\n",
       "11     88.858357\n",
       "12     86.825822\n",
       "13     41.751204\n",
       "14     97.485120\n",
       "15     96.592097\n",
       "16     95.465913\n",
       "17     66.538129\n",
       "18    112.571335\n",
       "19     76.433812\n",
       "dtype: float64"
      ]
     },
     "execution_count": 194,
     "metadata": {},
     "output_type": "execute_result"
    }
   ],
   "source": [
    "test_predictions.head(20)\n"
   ]
  },
  {
   "cell_type": "markdown",
   "metadata": {},
   "source": [
    "#### To save the predicted model with Pickle"
   ]
  },
  {
   "cell_type": "code",
   "execution_count": 195,
   "metadata": {},
   "outputs": [
    {
     "data": {
      "text/plain": [
       "array([ 97.56136329,  68.32307883, 140.29740512, 111.26850114,\n",
       "       119.13970939, 152.92748074,  97.11020231, 128.99007071,\n",
       "       118.28700152,  96.850909  ,  58.86591202,  88.85835728,\n",
       "        86.82582168,  41.75120364,  97.48512006,  96.59209655,\n",
       "        95.46591331,  66.53812856, 112.57133479,  76.43381249])"
      ]
     },
     "execution_count": 195,
     "metadata": {},
     "output_type": "execute_result"
    }
   ],
   "source": [
    "predicted_model = load(open(filename, 'rb'))\n",
    "result = predicted_model.predict(test_df)\n",
    "result[:20]"
   ]
  }
 ],
 "metadata": {
  "kernelspec": {
   "display_name": "Python 3",
   "language": "python",
   "name": "python3"
  },
  "language_info": {
   "codemirror_mode": {
    "name": "ipython",
    "version": 3
   },
   "file_extension": ".py",
   "mimetype": "text/x-python",
   "name": "python",
   "nbconvert_exporter": "python",
   "pygments_lexer": "ipython3",
   "version": "3.8.3"
  }
 },
 "nbformat": 4,
 "nbformat_minor": 4
}
